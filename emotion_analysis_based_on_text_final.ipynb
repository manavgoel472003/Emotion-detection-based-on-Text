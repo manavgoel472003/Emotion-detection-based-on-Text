{
  "metadata": {
    "kernelspec": {
      "language": "python",
      "display_name": "Python 3",
      "name": "python3"
    },
    "language_info": {
      "pygments_lexer": "ipython3",
      "nbconvert_exporter": "python",
      "version": "3.6.4",
      "file_extension": ".py",
      "codemirror_mode": {
        "name": "ipython",
        "version": 3
      },
      "name": "python",
      "mimetype": "text/x-python"
    },
    "colab": {
      "name": "emotion-analysis-based-on-text-final.ipynb",
      "provenance": [],
      "collapsed_sections": []
    }
  },
  "nbformat_minor": 0,
  "nbformat": 4,
  "cells": [
    {
      "cell_type": "code",
      "source": [
        "import numpy as np\n",
        "import pandas as pd"
      ],
      "metadata": {
        "execution": {
          "iopub.status.busy": "2022-06-14T18:37:01.834059Z",
          "iopub.execute_input": "2022-06-14T18:37:01.834417Z",
          "iopub.status.idle": "2022-06-14T18:37:01.848102Z",
          "shell.execute_reply.started": "2022-06-14T18:37:01.834345Z",
          "shell.execute_reply": "2022-06-14T18:37:01.846933Z"
        },
        "trusted": true,
        "id": "51W_ha2sZm-T"
      },
      "execution_count": 1,
      "outputs": []
    },
    {
      "cell_type": "code",
      "source": [
        "from google.colab import drive\n",
        "drive.mount('/content/drive')"
      ],
      "metadata": {
        "execution": {
          "iopub.status.busy": "2022-06-14T18:37:01.849581Z",
          "iopub.execute_input": "2022-06-14T18:37:01.850198Z",
          "iopub.status.idle": "2022-06-14T18:37:01.915864Z",
          "shell.execute_reply.started": "2022-06-14T18:37:01.850164Z",
          "shell.execute_reply": "2022-06-14T18:37:01.914793Z"
        },
        "trusted": true,
        "colab": {
          "base_uri": "https://localhost:8080/"
        },
        "id": "qV20i4bJZm-U",
        "outputId": "67d4e292-368b-433e-9d06-05c18b840efd"
      },
      "execution_count": 2,
      "outputs": [
        {
          "output_type": "stream",
          "name": "stdout",
          "text": [
            "Drive already mounted at /content/drive; to attempt to forcibly remount, call drive.mount(\"/content/drive\", force_remount=True).\n"
          ]
        }
      ]
    },
    {
      "cell_type": "code",
      "source": [
        "df = pd.read_csv(\"/content/drive/MyDrive/Colab Notebooks/Emotion_final.csv\")"
      ],
      "metadata": {
        "id": "y2UyHWWDaXjl"
      },
      "execution_count": 3,
      "outputs": []
    },
    {
      "cell_type": "code",
      "source": [
        "df.head(10)"
      ],
      "metadata": {
        "execution": {
          "iopub.status.busy": "2022-06-14T18:37:01.917109Z",
          "iopub.execute_input": "2022-06-14T18:37:01.917442Z",
          "iopub.status.idle": "2022-06-14T18:37:01.933518Z",
          "shell.execute_reply.started": "2022-06-14T18:37:01.917403Z",
          "shell.execute_reply": "2022-06-14T18:37:01.932382Z"
        },
        "trusted": true,
        "colab": {
          "base_uri": "https://localhost:8080/",
          "height": 359
        },
        "id": "8BIPojFuZm-V",
        "outputId": "731728a8-0ce0-472a-867f-19b29cc15621"
      },
      "execution_count": 4,
      "outputs": [
        {
          "output_type": "execute_result",
          "data": {
            "text/plain": [
              "                                                Text   Emotion\n",
              "0                            i didnt feel humiliated   sadness\n",
              "1  i can go from feeling so hopeless to so damned...   sadness\n",
              "2   im grabbing a minute to post i feel greedy wrong     anger\n",
              "3  i am ever feeling nostalgic about the fireplac...      love\n",
              "4                               i am feeling grouchy     anger\n",
              "5  ive been feeling a little burdened lately wasn...   sadness\n",
              "6  ive been taking or milligrams or times recomme...  surprise\n",
              "7  i feel as confused about life as a teenager or...      fear\n",
              "8  i have been with petronas for years i feel tha...     happy\n",
              "9                                i feel romantic too      love"
            ],
            "text/html": [
              "\n",
              "  <div id=\"df-997276e3-8971-4090-84b9-83d1889fe93d\">\n",
              "    <div class=\"colab-df-container\">\n",
              "      <div>\n",
              "<style scoped>\n",
              "    .dataframe tbody tr th:only-of-type {\n",
              "        vertical-align: middle;\n",
              "    }\n",
              "\n",
              "    .dataframe tbody tr th {\n",
              "        vertical-align: top;\n",
              "    }\n",
              "\n",
              "    .dataframe thead th {\n",
              "        text-align: right;\n",
              "    }\n",
              "</style>\n",
              "<table border=\"1\" class=\"dataframe\">\n",
              "  <thead>\n",
              "    <tr style=\"text-align: right;\">\n",
              "      <th></th>\n",
              "      <th>Text</th>\n",
              "      <th>Emotion</th>\n",
              "    </tr>\n",
              "  </thead>\n",
              "  <tbody>\n",
              "    <tr>\n",
              "      <th>0</th>\n",
              "      <td>i didnt feel humiliated</td>\n",
              "      <td>sadness</td>\n",
              "    </tr>\n",
              "    <tr>\n",
              "      <th>1</th>\n",
              "      <td>i can go from feeling so hopeless to so damned...</td>\n",
              "      <td>sadness</td>\n",
              "    </tr>\n",
              "    <tr>\n",
              "      <th>2</th>\n",
              "      <td>im grabbing a minute to post i feel greedy wrong</td>\n",
              "      <td>anger</td>\n",
              "    </tr>\n",
              "    <tr>\n",
              "      <th>3</th>\n",
              "      <td>i am ever feeling nostalgic about the fireplac...</td>\n",
              "      <td>love</td>\n",
              "    </tr>\n",
              "    <tr>\n",
              "      <th>4</th>\n",
              "      <td>i am feeling grouchy</td>\n",
              "      <td>anger</td>\n",
              "    </tr>\n",
              "    <tr>\n",
              "      <th>5</th>\n",
              "      <td>ive been feeling a little burdened lately wasn...</td>\n",
              "      <td>sadness</td>\n",
              "    </tr>\n",
              "    <tr>\n",
              "      <th>6</th>\n",
              "      <td>ive been taking or milligrams or times recomme...</td>\n",
              "      <td>surprise</td>\n",
              "    </tr>\n",
              "    <tr>\n",
              "      <th>7</th>\n",
              "      <td>i feel as confused about life as a teenager or...</td>\n",
              "      <td>fear</td>\n",
              "    </tr>\n",
              "    <tr>\n",
              "      <th>8</th>\n",
              "      <td>i have been with petronas for years i feel tha...</td>\n",
              "      <td>happy</td>\n",
              "    </tr>\n",
              "    <tr>\n",
              "      <th>9</th>\n",
              "      <td>i feel romantic too</td>\n",
              "      <td>love</td>\n",
              "    </tr>\n",
              "  </tbody>\n",
              "</table>\n",
              "</div>\n",
              "      <button class=\"colab-df-convert\" onclick=\"convertToInteractive('df-997276e3-8971-4090-84b9-83d1889fe93d')\"\n",
              "              title=\"Convert this dataframe to an interactive table.\"\n",
              "              style=\"display:none;\">\n",
              "        \n",
              "  <svg xmlns=\"http://www.w3.org/2000/svg\" height=\"24px\"viewBox=\"0 0 24 24\"\n",
              "       width=\"24px\">\n",
              "    <path d=\"M0 0h24v24H0V0z\" fill=\"none\"/>\n",
              "    <path d=\"M18.56 5.44l.94 2.06.94-2.06 2.06-.94-2.06-.94-.94-2.06-.94 2.06-2.06.94zm-11 1L8.5 8.5l.94-2.06 2.06-.94-2.06-.94L8.5 2.5l-.94 2.06-2.06.94zm10 10l.94 2.06.94-2.06 2.06-.94-2.06-.94-.94-2.06-.94 2.06-2.06.94z\"/><path d=\"M17.41 7.96l-1.37-1.37c-.4-.4-.92-.59-1.43-.59-.52 0-1.04.2-1.43.59L10.3 9.45l-7.72 7.72c-.78.78-.78 2.05 0 2.83L4 21.41c.39.39.9.59 1.41.59.51 0 1.02-.2 1.41-.59l7.78-7.78 2.81-2.81c.8-.78.8-2.07 0-2.86zM5.41 20L4 18.59l7.72-7.72 1.47 1.35L5.41 20z\"/>\n",
              "  </svg>\n",
              "      </button>\n",
              "      \n",
              "  <style>\n",
              "    .colab-df-container {\n",
              "      display:flex;\n",
              "      flex-wrap:wrap;\n",
              "      gap: 12px;\n",
              "    }\n",
              "\n",
              "    .colab-df-convert {\n",
              "      background-color: #E8F0FE;\n",
              "      border: none;\n",
              "      border-radius: 50%;\n",
              "      cursor: pointer;\n",
              "      display: none;\n",
              "      fill: #1967D2;\n",
              "      height: 32px;\n",
              "      padding: 0 0 0 0;\n",
              "      width: 32px;\n",
              "    }\n",
              "\n",
              "    .colab-df-convert:hover {\n",
              "      background-color: #E2EBFA;\n",
              "      box-shadow: 0px 1px 2px rgba(60, 64, 67, 0.3), 0px 1px 3px 1px rgba(60, 64, 67, 0.15);\n",
              "      fill: #174EA6;\n",
              "    }\n",
              "\n",
              "    [theme=dark] .colab-df-convert {\n",
              "      background-color: #3B4455;\n",
              "      fill: #D2E3FC;\n",
              "    }\n",
              "\n",
              "    [theme=dark] .colab-df-convert:hover {\n",
              "      background-color: #434B5C;\n",
              "      box-shadow: 0px 1px 3px 1px rgba(0, 0, 0, 0.15);\n",
              "      filter: drop-shadow(0px 1px 2px rgba(0, 0, 0, 0.3));\n",
              "      fill: #FFFFFF;\n",
              "    }\n",
              "  </style>\n",
              "\n",
              "      <script>\n",
              "        const buttonEl =\n",
              "          document.querySelector('#df-997276e3-8971-4090-84b9-83d1889fe93d button.colab-df-convert');\n",
              "        buttonEl.style.display =\n",
              "          google.colab.kernel.accessAllowed ? 'block' : 'none';\n",
              "\n",
              "        async function convertToInteractive(key) {\n",
              "          const element = document.querySelector('#df-997276e3-8971-4090-84b9-83d1889fe93d');\n",
              "          const dataTable =\n",
              "            await google.colab.kernel.invokeFunction('convertToInteractive',\n",
              "                                                     [key], {});\n",
              "          if (!dataTable) return;\n",
              "\n",
              "          const docLinkHtml = 'Like what you see? Visit the ' +\n",
              "            '<a target=\"_blank\" href=https://colab.research.google.com/notebooks/data_table.ipynb>data table notebook</a>'\n",
              "            + ' to learn more about interactive tables.';\n",
              "          element.innerHTML = '';\n",
              "          dataTable['output_type'] = 'display_data';\n",
              "          await google.colab.output.renderOutput(dataTable, element);\n",
              "          const docLink = document.createElement('div');\n",
              "          docLink.innerHTML = docLinkHtml;\n",
              "          element.appendChild(docLink);\n",
              "        }\n",
              "      </script>\n",
              "    </div>\n",
              "  </div>\n",
              "  "
            ]
          },
          "metadata": {},
          "execution_count": 4
        }
      ]
    },
    {
      "cell_type": "code",
      "source": [
        "import seaborn as sns\n",
        "\n",
        "sns.set_style(\"whitegrid\")\n",
        "sns.countplot(x=\"Emotion\",data = df)"
      ],
      "metadata": {
        "execution": {
          "iopub.status.busy": "2022-06-14T18:37:01.936482Z",
          "iopub.execute_input": "2022-06-14T18:37:01.937044Z",
          "iopub.status.idle": "2022-06-14T18:37:02.744209Z",
          "shell.execute_reply.started": "2022-06-14T18:37:01.936996Z",
          "shell.execute_reply": "2022-06-14T18:37:02.743067Z"
        },
        "trusted": true,
        "colab": {
          "base_uri": "https://localhost:8080/",
          "height": 296
        },
        "id": "F03Da_rtZm-V",
        "outputId": "6d5a32d6-b041-42eb-a01b-dda953f39426"
      },
      "execution_count": 5,
      "outputs": [
        {
          "output_type": "execute_result",
          "data": {
            "text/plain": [
              "<matplotlib.axes._subplots.AxesSubplot at 0x7ff42db53a10>"
            ]
          },
          "metadata": {},
          "execution_count": 5
        },
        {
          "output_type": "display_data",
          "data": {
            "text/plain": [
              "<Figure size 432x288 with 1 Axes>"
            ],
            "image/png": "[encoded data removed]"
          },
          "metadata": {}
        }
      ]
    },
    {
      "cell_type": "code",
      "source": [
        "import re\n",
        "import string\n",
        "from string import punctuation\n",
        "import nltk\n",
        "from nltk.corpus import stopwords\n",
        "nltk.download(\"stopwords\")"
      ],
      "metadata": {
        "execution": {
          "iopub.status.busy": "2022-06-14T18:37:02.745606Z",
          "iopub.execute_input": "2022-06-14T18:37:02.746007Z",
          "iopub.status.idle": "2022-06-14T18:37:03.131504Z",
          "shell.execute_reply.started": "2022-06-14T18:37:02.745963Z",
          "shell.execute_reply": "2022-06-14T18:37:03.130289Z"
        },
        "trusted": true,
        "colab": {
          "base_uri": "https://localhost:8080/"
        },
        "id": "0gOk6wExZm-W",
        "outputId": "89968263-ad1f-4ff6-a2cd-1caefdb60ff3"
      },
      "execution_count": 6,
      "outputs": [
        {
          "output_type": "stream",
          "name": "stderr",
          "text": [
            "[nltk_data] Downloading package stopwords to /root/nltk_data...\n",
            "[nltk_data]   Package stopwords is already up-to-date!\n"
          ]
        },
        {
          "output_type": "execute_result",
          "data": {
            "text/plain": [
              "True"
            ]
          },
          "metadata": {},
          "execution_count": 6
        }
      ]
    },
    {
      "cell_type": "code",
      "source": [
        "def text_processing(text: str):\n",
        "    stpwrds = stopwords.words(\"english\")\n",
        "    no_punctuation = [char for char in text if char not in string.punctuation]\n",
        "    no_punctuation = \"\".join(no_punctuation)\n",
        "    return \" \".join([word for word in no_punctuation.split() if word.lower() not in stpwrds])"
      ],
      "metadata": {
        "execution": {
          "iopub.status.busy": "2022-06-14T18:37:03.133283Z",
          "iopub.execute_input": "2022-06-14T18:37:03.134131Z",
          "iopub.status.idle": "2022-06-14T18:37:03.140407Z",
          "shell.execute_reply.started": "2022-06-14T18:37:03.134086Z",
          "shell.execute_reply": "2022-06-14T18:37:03.139145Z"
        },
        "trusted": true,
        "id": "7j2p80qbZm-W"
      },
      "execution_count": 7,
      "outputs": []
    },
    {
      "cell_type": "code",
      "source": [
        "df[\"PreText\"] = df[\"Text\"].apply(text_processing)\n",
        "df.head()"
      ],
      "metadata": {
        "execution": {
          "iopub.status.busy": "2022-06-14T18:37:03.141631Z",
          "iopub.execute_input": "2022-06-14T18:37:03.142247Z",
          "iopub.status.idle": "2022-06-14T18:37:07.119767Z",
          "shell.execute_reply.started": "2022-06-14T18:37:03.14221Z",
          "shell.execute_reply": "2022-06-14T18:37:07.118639Z"
        },
        "trusted": true,
        "colab": {
          "base_uri": "https://localhost:8080/",
          "height": 204
        },
        "id": "lB6K7ok_Zm-W",
        "outputId": "397fe58c-770f-44c8-8159-0eab3bb7c1cb"
      },
      "execution_count": 8,
      "outputs": [
        {
          "output_type": "execute_result",
          "data": {
            "text/plain": [
              "                                                Text  Emotion  \\\n",
              "0                            i didnt feel humiliated  sadness   \n",
              "1  i can go from feeling so hopeless to so damned...  sadness   \n",
              "2   im grabbing a minute to post i feel greedy wrong    anger   \n",
              "3  i am ever feeling nostalgic about the fireplac...     love   \n",
              "4                               i am feeling grouchy    anger   \n",
              "\n",
              "                                             PreText  \n",
              "0                              didnt feel humiliated  \n",
              "1  go feeling hopeless damned hopeful around some...  \n",
              "2          im grabbing minute post feel greedy wrong  \n",
              "3  ever feeling nostalgic fireplace know still pr...  \n",
              "4                                    feeling grouchy  "
            ],
            "text/html": [
              "\n",
              "  <div id=\"df-c1e51916-9bf4-4ec1-b6e6-d5e878fe57f5\">\n",
              "    <div class=\"colab-df-container\">\n",
              "      <div>\n",
              "<style scoped>\n",
              "    .dataframe tbody tr th:only-of-type {\n",
              "        vertical-align: middle;\n",
              "    }\n",
              "\n",
              "    .dataframe tbody tr th {\n",
              "        vertical-align: top;\n",
              "    }\n",
              "\n",
              "    .dataframe thead th {\n",
              "        text-align: right;\n",
              "    }\n",
              "</style>\n",
              "<table border=\"1\" class=\"dataframe\">\n",
              "  <thead>\n",
              "    <tr style=\"text-align: right;\">\n",
              "      <th></th>\n",
              "      <th>Text</th>\n",
              "      <th>Emotion</th>\n",
              "      <th>PreText</th>\n",
              "    </tr>\n",
              "  </thead>\n",
              "  <tbody>\n",
              "    <tr>\n",
              "      <th>0</th>\n",
              "      <td>i didnt feel humiliated</td>\n",
              "      <td>sadness</td>\n",
              "      <td>didnt feel humiliated</td>\n",
              "    </tr>\n",
              "    <tr>\n",
              "      <th>1</th>\n",
              "      <td>i can go from feeling so hopeless to so damned...</td>\n",
              "      <td>sadness</td>\n",
              "      <td>go feeling hopeless damned hopeful around some...</td>\n",
              "    </tr>\n",
              "    <tr>\n",
              "      <th>2</th>\n",
              "      <td>im grabbing a minute to post i feel greedy wrong</td>\n",
              "      <td>anger</td>\n",
              "      <td>im grabbing minute post feel greedy wrong</td>\n",
              "    </tr>\n",
              "    <tr>\n",
              "      <th>3</th>\n",
              "      <td>i am ever feeling nostalgic about the fireplac...</td>\n",
              "      <td>love</td>\n",
              "      <td>ever feeling nostalgic fireplace know still pr...</td>\n",
              "    </tr>\n",
              "    <tr>\n",
              "      <th>4</th>\n",
              "      <td>i am feeling grouchy</td>\n",
              "      <td>anger</td>\n",
              "      <td>feeling grouchy</td>\n",
              "    </tr>\n",
              "  </tbody>\n",
              "</table>\n",
              "</div>\n",
              "      <button class=\"colab-df-convert\" onclick=\"convertToInteractive('df-c1e51916-9bf4-4ec1-b6e6-d5e878fe57f5')\"\n",
              "              title=\"Convert this dataframe to an interactive table.\"\n",
              "              style=\"display:none;\">\n",
              "        \n",
              "  <svg xmlns=\"http://www.w3.org/2000/svg\" height=\"24px\"viewBox=\"0 0 24 24\"\n",
              "       width=\"24px\">\n",
              "    <path d=\"M0 0h24v24H0V0z\" fill=\"none\"/>\n",
              "    <path d=\"M18.56 5.44l.94 2.06.94-2.06 2.06-.94-2.06-.94-.94-2.06-.94 2.06-2.06.94zm-11 1L8.5 8.5l.94-2.06 2.06-.94-2.06-.94L8.5 2.5l-.94 2.06-2.06.94zm10 10l.94 2.06.94-2.06 2.06-.94-2.06-.94-.94-2.06-.94 2.06-2.06.94z\"/><path d=\"M17.41 7.96l-1.37-1.37c-.4-.4-.92-.59-1.43-.59-.52 0-1.04.2-1.43.59L10.3 9.45l-7.72 7.72c-.78.78-.78 2.05 0 2.83L4 21.41c.39.39.9.59 1.41.59.51 0 1.02-.2 1.41-.59l7.78-7.78 2.81-2.81c.8-.78.8-2.07 0-2.86zM5.41 20L4 18.59l7.72-7.72 1.47 1.35L5.41 20z\"/>\n",
              "  </svg>\n",
              "      </button>\n",
              "      \n",
              "  <style>\n",
              "    .colab-df-container {\n",
              "      display:flex;\n",
              "      flex-wrap:wrap;\n",
              "      gap: 12px;\n",
              "    }\n",
              "\n",
              "    .colab-df-convert {\n",
              "      background-color: #E8F0FE;\n",
              "      border: none;\n",
              "      border-radius: 50%;\n",
              "      cursor: pointer;\n",
              "      display: none;\n",
              "      fill: #1967D2;\n",
              "      height: 32px;\n",
              "      padding: 0 0 0 0;\n",
              "      width: 32px;\n",
              "    }\n",
              "\n",
              "    .colab-df-convert:hover {\n",
              "      background-color: #E2EBFA;\n",
              "      box-shadow: 0px 1px 2px rgba(60, 64, 67, 0.3), 0px 1px 3px 1px rgba(60, 64, 67, 0.15);\n",
              "      fill: #174EA6;\n",
              "    }\n",
              "\n",
              "    [theme=dark] .colab-df-convert {\n",
              "      background-color: #3B4455;\n",
              "      fill: #D2E3FC;\n",
              "    }\n",
              "\n",
              "    [theme=dark] .colab-df-convert:hover {\n",
              "      background-color: #434B5C;\n",
              "      box-shadow: 0px 1px 3px 1px rgba(0, 0, 0, 0.15);\n",
              "      filter: drop-shadow(0px 1px 2px rgba(0, 0, 0, 0.3));\n",
              "      fill: #FFFFFF;\n",
              "    }\n",
              "  </style>\n",
              "\n",
              "      <script>\n",
              "        const buttonEl =\n",
              "          document.querySelector('#df-c1e51916-9bf4-4ec1-b6e6-d5e878fe57f5 button.colab-df-convert');\n",
              "        buttonEl.style.display =\n",
              "          google.colab.kernel.accessAllowed ? 'block' : 'none';\n",
              "\n",
              "        async function convertToInteractive(key) {\n",
              "          const element = document.querySelector('#df-c1e51916-9bf4-4ec1-b6e6-d5e878fe57f5');\n",
              "          const dataTable =\n",
              "            await google.colab.kernel.invokeFunction('convertToInteractive',\n",
              "                                                     [key], {});\n",
              "          if (!dataTable) return;\n",
              "\n",
              "          const docLinkHtml = 'Like what you see? Visit the ' +\n",
              "            '<a target=\"_blank\" href=https://colab.research.google.com/notebooks/data_table.ipynb>data table notebook</a>'\n",
              "            + ' to learn more about interactive tables.';\n",
              "          element.innerHTML = '';\n",
              "          dataTable['output_type'] = 'display_data';\n",
              "          await google.colab.output.renderOutput(dataTable, element);\n",
              "          const docLink = document.createElement('div');\n",
              "          docLink.innerHTML = docLinkHtml;\n",
              "          element.appendChild(docLink);\n",
              "        }\n",
              "      </script>\n",
              "    </div>\n",
              "  </div>\n",
              "  "
            ]
          },
          "metadata": {},
          "execution_count": 8
        }
      ]
    },
    {
      "cell_type": "code",
      "source": [
        "df = df[[\"PreText\", \"Emotion\"]]"
      ],
      "metadata": {
        "execution": {
          "iopub.status.busy": "2022-06-14T18:37:07.121047Z",
          "iopub.execute_input": "2022-06-14T18:37:07.12144Z",
          "iopub.status.idle": "2022-06-14T18:37:07.131164Z",
          "shell.execute_reply.started": "2022-06-14T18:37:07.121407Z",
          "shell.execute_reply": "2022-06-14T18:37:07.129893Z"
        },
        "trusted": true,
        "id": "h_s4pfiAZm-X"
      },
      "execution_count": 9,
      "outputs": []
    },
    {
      "cell_type": "code",
      "source": [
        "df.head()"
      ],
      "metadata": {
        "execution": {
          "iopub.status.busy": "2022-06-14T18:37:07.13342Z",
          "iopub.execute_input": "2022-06-14T18:37:07.134363Z",
          "iopub.status.idle": "2022-06-14T18:37:07.148714Z",
          "shell.execute_reply.started": "2022-06-14T18:37:07.134303Z",
          "shell.execute_reply": "2022-06-14T18:37:07.147388Z"
        },
        "trusted": true,
        "colab": {
          "base_uri": "https://localhost:8080/",
          "height": 204
        },
        "id": "Q3TANXvGZm-Y",
        "outputId": "54b35bde-9998-48d0-cea7-585e450ae9bd"
      },
      "execution_count": 10,
      "outputs": [
        {
          "output_type": "execute_result",
          "data": {
            "text/plain": [
              "                                             PreText  Emotion\n",
              "0                              didnt feel humiliated  sadness\n",
              "1  go feeling hopeless damned hopeful around some...  sadness\n",
              "2          im grabbing minute post feel greedy wrong    anger\n",
              "3  ever feeling nostalgic fireplace know still pr...     love\n",
              "4                                    feeling grouchy    anger"
            ],
            "text/html": [
              "\n",
              "  <div id=\"df-a421b0dd-4d50-4429-bff1-bb87d6855dbe\">\n",
              "    <div class=\"colab-df-container\">\n",
              "      <div>\n",
              "<style scoped>\n",
              "    .dataframe tbody tr th:only-of-type {\n",
              "        vertical-align: middle;\n",
              "    }\n",
              "\n",
              "    .dataframe tbody tr th {\n",
              "        vertical-align: top;\n",
              "    }\n",
              "\n",
              "    .dataframe thead th {\n",
              "        text-align: right;\n",
              "    }\n",
              "</style>\n",
              "<table border=\"1\" class=\"dataframe\">\n",
              "  <thead>\n",
              "    <tr style=\"text-align: right;\">\n",
              "      <th></th>\n",
              "      <th>PreText</th>\n",
              "      <th>Emotion</th>\n",
              "    </tr>\n",
              "  </thead>\n",
              "  <tbody>\n",
              "    <tr>\n",
              "      <th>0</th>\n",
              "      <td>didnt feel humiliated</td>\n",
              "      <td>sadness</td>\n",
              "    </tr>\n",
              "    <tr>\n",
              "      <th>1</th>\n",
              "      <td>go feeling hopeless damned hopeful around some...</td>\n",
              "      <td>sadness</td>\n",
              "    </tr>\n",
              "    <tr>\n",
              "      <th>2</th>\n",
              "      <td>im grabbing minute post feel greedy wrong</td>\n",
              "      <td>anger</td>\n",
              "    </tr>\n",
              "    <tr>\n",
              "      <th>3</th>\n",
              "      <td>ever feeling nostalgic fireplace know still pr...</td>\n",
              "      <td>love</td>\n",
              "    </tr>\n",
              "    <tr>\n",
              "      <th>4</th>\n",
              "      <td>feeling grouchy</td>\n",
              "      <td>anger</td>\n",
              "    </tr>\n",
              "  </tbody>\n",
              "</table>\n",
              "</div>\n",
              "      <button class=\"colab-df-convert\" onclick=\"convertToInteractive('df-a421b0dd-4d50-4429-bff1-bb87d6855dbe')\"\n",
              "              title=\"Convert this dataframe to an interactive table.\"\n",
              "              style=\"display:none;\">\n",
              "        \n",
              "  <svg xmlns=\"http://www.w3.org/2000/svg\" height=\"24px\"viewBox=\"0 0 24 24\"\n",
              "       width=\"24px\">\n",
              "    <path d=\"M0 0h24v24H0V0z\" fill=\"none\"/>\n",
              "    <path d=\"M18.56 5.44l.94 2.06.94-2.06 2.06-.94-2.06-.94-.94-2.06-.94 2.06-2.06.94zm-11 1L8.5 8.5l.94-2.06 2.06-.94-2.06-.94L8.5 2.5l-.94 2.06-2.06.94zm10 10l.94 2.06.94-2.06 2.06-.94-2.06-.94-.94-2.06-.94 2.06-2.06.94z\"/><path d=\"M17.41 7.96l-1.37-1.37c-.4-.4-.92-.59-1.43-.59-.52 0-1.04.2-1.43.59L10.3 9.45l-7.72 7.72c-.78.78-.78 2.05 0 2.83L4 21.41c.39.39.9.59 1.41.59.51 0 1.02-.2 1.41-.59l7.78-7.78 2.81-2.81c.8-.78.8-2.07 0-2.86zM5.41 20L4 18.59l7.72-7.72 1.47 1.35L5.41 20z\"/>\n",
              "  </svg>\n",
              "      </button>\n",
              "      \n",
              "  <style>\n",
              "    .colab-df-container {\n",
              "      display:flex;\n",
              "      flex-wrap:wrap;\n",
              "      gap: 12px;\n",
              "    }\n",
              "\n",
              "    .colab-df-convert {\n",
              "      background-color: #E8F0FE;\n",
              "      border: none;\n",
              "      border-radius: 50%;\n",
              "      cursor: pointer;\n",
              "      display: none;\n",
              "      fill: #1967D2;\n",
              "      height: 32px;\n",
              "      padding: 0 0 0 0;\n",
              "      width: 32px;\n",
              "    }\n",
              "\n",
              "    .colab-df-convert:hover {\n",
              "      background-color: #E2EBFA;\n",
              "      box-shadow: 0px 1px 2px rgba(60, 64, 67, 0.3), 0px 1px 3px 1px rgba(60, 64, 67, 0.15);\n",
              "      fill: #174EA6;\n",
              "    }\n",
              "\n",
              "    [theme=dark] .colab-df-convert {\n",
              "      background-color: #3B4455;\n",
              "      fill: #D2E3FC;\n",
              "    }\n",
              "\n",
              "    [theme=dark] .colab-df-convert:hover {\n",
              "      background-color: #434B5C;\n",
              "      box-shadow: 0px 1px 3px 1px rgba(0, 0, 0, 0.15);\n",
              "      filter: drop-shadow(0px 1px 2px rgba(0, 0, 0, 0.3));\n",
              "      fill: #FFFFFF;\n",
              "    }\n",
              "  </style>\n",
              "\n",
              "      <script>\n",
              "        const buttonEl =\n",
              "          document.querySelector('#df-a421b0dd-4d50-4429-bff1-bb87d6855dbe button.colab-df-convert');\n",
              "        buttonEl.style.display =\n",
              "          google.colab.kernel.accessAllowed ? 'block' : 'none';\n",
              "\n",
              "        async function convertToInteractive(key) {\n",
              "          const element = document.querySelector('#df-a421b0dd-4d50-4429-bff1-bb87d6855dbe');\n",
              "          const dataTable =\n",
              "            await google.colab.kernel.invokeFunction('convertToInteractive',\n",
              "                                                     [key], {});\n",
              "          if (!dataTable) return;\n",
              "\n",
              "          const docLinkHtml = 'Like what you see? Visit the ' +\n",
              "            '<a target=\"_blank\" href=https://colab.research.google.com/notebooks/data_table.ipynb>data table notebook</a>'\n",
              "            + ' to learn more about interactive tables.';\n",
              "          element.innerHTML = '';\n",
              "          dataTable['output_type'] = 'display_data';\n",
              "          await google.colab.output.renderOutput(dataTable, element);\n",
              "          const docLink = document.createElement('div');\n",
              "          docLink.innerHTML = docLinkHtml;\n",
              "          element.appendChild(docLink);\n",
              "        }\n",
              "      </script>\n",
              "    </div>\n",
              "  </div>\n",
              "  "
            ]
          },
          "metadata": {},
          "execution_count": 10
        }
      ]
    },
    {
      "cell_type": "code",
      "source": [
        "emotion_encode = pd.get_dummies(df[\"Emotion\"])\n",
        "df = df[[\"PreText\"]]"
      ],
      "metadata": {
        "execution": {
          "iopub.status.busy": "2022-06-14T18:41:07.950184Z",
          "iopub.execute_input": "2022-06-14T18:41:07.950623Z",
          "iopub.status.idle": "2022-06-14T18:41:07.974213Z",
          "shell.execute_reply.started": "2022-06-14T18:41:07.950591Z",
          "shell.execute_reply": "2022-06-14T18:41:07.973099Z"
        },
        "trusted": true,
        "id": "U9YnWz6XZm-Y"
      },
      "execution_count": 11,
      "outputs": []
    },
    {
      "cell_type": "code",
      "source": [
        "df = pd.concat([df, emotion_encode], axis=1)\n",
        "df.head()"
      ],
      "metadata": {
        "execution": {
          "iopub.status.busy": "2022-06-14T18:41:53.626514Z",
          "iopub.execute_input": "2022-06-14T18:41:53.627133Z",
          "iopub.status.idle": "2022-06-14T18:41:53.647626Z",
          "shell.execute_reply.started": "2022-06-14T18:41:53.62708Z",
          "shell.execute_reply": "2022-06-14T18:41:53.646609Z"
        },
        "trusted": true,
        "colab": {
          "base_uri": "https://localhost:8080/",
          "height": 204
        },
        "id": "-iEUmzqJZm-Z",
        "outputId": "23945897-e10e-4d52-d797-dc8a8e022a61"
      },
      "execution_count": 12,
      "outputs": [
        {
          "output_type": "execute_result",
          "data": {
            "text/plain": [
              "                                             PreText  anger  fear  happy  \\\n",
              "0                              didnt feel humiliated      0     0      0   \n",
              "1  go feeling hopeless damned hopeful around some...      0     0      0   \n",
              "2          im grabbing minute post feel greedy wrong      1     0      0   \n",
              "3  ever feeling nostalgic fireplace know still pr...      0     0      0   \n",
              "4                                    feeling grouchy      1     0      0   \n",
              "\n",
              "   love  sadness  surprise  \n",
              "0     0        1         0  \n",
              "1     0        1         0  \n",
              "2     0        0         0  \n",
              "3     1        0         0  \n",
              "4     0        0         0  "
            ],
            "text/html": [
              "\n",
              "  <div id=\"df-1d36c914-78ae-46c0-ba7e-2101dd4572b7\">\n",
              "    <div class=\"colab-df-container\">\n",
              "      <div>\n",
              "<style scoped>\n",
              "    .dataframe tbody tr th:only-of-type {\n",
              "        vertical-align: middle;\n",
              "    }\n",
              "\n",
              "    .dataframe tbody tr th {\n",
              "        vertical-align: top;\n",
              "    }\n",
              "\n",
              "    .dataframe thead th {\n",
              "        text-align: right;\n",
              "    }\n",
              "</style>\n",
              "<table border=\"1\" class=\"dataframe\">\n",
              "  <thead>\n",
              "    <tr style=\"text-align: right;\">\n",
              "      <th></th>\n",
              "      <th>PreText</th>\n",
              "      <th>anger</th>\n",
              "      <th>fear</th>\n",
              "      <th>happy</th>\n",
              "      <th>love</th>\n",
              "      <th>sadness</th>\n",
              "      <th>surprise</th>\n",
              "    </tr>\n",
              "  </thead>\n",
              "  <tbody>\n",
              "    <tr>\n",
              "      <th>0</th>\n",
              "      <td>didnt feel humiliated</td>\n",
              "      <td>0</td>\n",
              "      <td>0</td>\n",
              "      <td>0</td>\n",
              "      <td>0</td>\n",
              "      <td>1</td>\n",
              "      <td>0</td>\n",
              "    </tr>\n",
              "    <tr>\n",
              "      <th>1</th>\n",
              "      <td>go feeling hopeless damned hopeful around some...</td>\n",
              "      <td>0</td>\n",
              "      <td>0</td>\n",
              "      <td>0</td>\n",
              "      <td>0</td>\n",
              "      <td>1</td>\n",
              "      <td>0</td>\n",
              "    </tr>\n",
              "    <tr>\n",
              "      <th>2</th>\n",
              "      <td>im grabbing minute post feel greedy wrong</td>\n",
              "      <td>1</td>\n",
              "      <td>0</td>\n",
              "      <td>0</td>\n",
              "      <td>0</td>\n",
              "      <td>0</td>\n",
              "      <td>0</td>\n",
              "    </tr>\n",
              "    <tr>\n",
              "      <th>3</th>\n",
              "      <td>ever feeling nostalgic fireplace know still pr...</td>\n",
              "      <td>0</td>\n",
              "      <td>0</td>\n",
              "      <td>0</td>\n",
              "      <td>1</td>\n",
              "      <td>0</td>\n",
              "      <td>0</td>\n",
              "    </tr>\n",
              "    <tr>\n",
              "      <th>4</th>\n",
              "      <td>feeling grouchy</td>\n",
              "      <td>1</td>\n",
              "      <td>0</td>\n",
              "      <td>0</td>\n",
              "      <td>0</td>\n",
              "      <td>0</td>\n",
              "      <td>0</td>\n",
              "    </tr>\n",
              "  </tbody>\n",
              "</table>\n",
              "</div>\n",
              "      <button class=\"colab-df-convert\" onclick=\"convertToInteractive('df-1d36c914-78ae-46c0-ba7e-2101dd4572b7')\"\n",
              "              title=\"Convert this dataframe to an interactive table.\"\n",
              "              style=\"display:none;\">\n",
              "        \n",
              "  <svg xmlns=\"http://www.w3.org/2000/svg\" height=\"24px\"viewBox=\"0 0 24 24\"\n",
              "       width=\"24px\">\n",
              "    <path d=\"M0 0h24v24H0V0z\" fill=\"none\"/>\n",
              "    <path d=\"M18.56 5.44l.94 2.06.94-2.06 2.06-.94-2.06-.94-.94-2.06-.94 2.06-2.06.94zm-11 1L8.5 8.5l.94-2.06 2.06-.94-2.06-.94L8.5 2.5l-.94 2.06-2.06.94zm10 10l.94 2.06.94-2.06 2.06-.94-2.06-.94-.94-2.06-.94 2.06-2.06.94z\"/><path d=\"M17.41 7.96l-1.37-1.37c-.4-.4-.92-.59-1.43-.59-.52 0-1.04.2-1.43.59L10.3 9.45l-7.72 7.72c-.78.78-.78 2.05 0 2.83L4 21.41c.39.39.9.59 1.41.59.51 0 1.02-.2 1.41-.59l7.78-7.78 2.81-2.81c.8-.78.8-2.07 0-2.86zM5.41 20L4 18.59l7.72-7.72 1.47 1.35L5.41 20z\"/>\n",
              "  </svg>\n",
              "      </button>\n",
              "      \n",
              "  <style>\n",
              "    .colab-df-container {\n",
              "      display:flex;\n",
              "      flex-wrap:wrap;\n",
              "      gap: 12px;\n",
              "    }\n",
              "\n",
              "    .colab-df-convert {\n",
              "      background-color: #E8F0FE;\n",
              "      border: none;\n",
              "      border-radius: 50%;\n",
              "      cursor: pointer;\n",
              "      display: none;\n",
              "      fill: #1967D2;\n",
              "      height: 32px;\n",
              "      padding: 0 0 0 0;\n",
              "      width: 32px;\n",
              "    }\n",
              "\n",
              "    .colab-df-convert:hover {\n",
              "      background-color: #E2EBFA;\n",
              "      box-shadow: 0px 1px 2px rgba(60, 64, 67, 0.3), 0px 1px 3px 1px rgba(60, 64, 67, 0.15);\n",
              "      fill: #174EA6;\n",
              "    }\n",
              "\n",
              "    [theme=dark] .colab-df-convert {\n",
              "      background-color: #3B4455;\n",
              "      fill: #D2E3FC;\n",
              "    }\n",
              "\n",
              "    [theme=dark] .colab-df-convert:hover {\n",
              "      background-color: #434B5C;\n",
              "      box-shadow: 0px 1px 3px 1px rgba(0, 0, 0, 0.15);\n",
              "      filter: drop-shadow(0px 1px 2px rgba(0, 0, 0, 0.3));\n",
              "      fill: #FFFFFF;\n",
              "    }\n",
              "  </style>\n",
              "\n",
              "      <script>\n",
              "        const buttonEl =\n",
              "          document.querySelector('#df-1d36c914-78ae-46c0-ba7e-2101dd4572b7 button.colab-df-convert');\n",
              "        buttonEl.style.display =\n",
              "          google.colab.kernel.accessAllowed ? 'block' : 'none';\n",
              "\n",
              "        async function convertToInteractive(key) {\n",
              "          const element = document.querySelector('#df-1d36c914-78ae-46c0-ba7e-2101dd4572b7');\n",
              "          const dataTable =\n",
              "            await google.colab.kernel.invokeFunction('convertToInteractive',\n",
              "                                                     [key], {});\n",
              "          if (!dataTable) return;\n",
              "\n",
              "          const docLinkHtml = 'Like what you see? Visit the ' +\n",
              "            '<a target=\"_blank\" href=https://colab.research.google.com/notebooks/data_table.ipynb>data table notebook</a>'\n",
              "            + ' to learn more about interactive tables.';\n",
              "          element.innerHTML = '';\n",
              "          dataTable['output_type'] = 'display_data';\n",
              "          await google.colab.output.renderOutput(dataTable, element);\n",
              "          const docLink = document.createElement('div');\n",
              "          docLink.innerHTML = docLinkHtml;\n",
              "          element.appendChild(docLink);\n",
              "        }\n",
              "      </script>\n",
              "    </div>\n",
              "  </div>\n",
              "  "
            ]
          },
          "metadata": {},
          "execution_count": 12
        }
      ]
    },
    {
      "cell_type": "code",
      "source": [
        "from sklearn.model_selection import train_test_split\n",
        "from sklearn.feature_extraction.text import CountVectorizer, TfidfTransformer"
      ],
      "metadata": {
        "execution": {
          "iopub.status.busy": "2022-06-14T18:43:03.314272Z",
          "iopub.execute_input": "2022-06-14T18:43:03.314975Z",
          "iopub.status.idle": "2022-06-14T18:43:03.321267Z",
          "shell.execute_reply.started": "2022-06-14T18:43:03.314928Z",
          "shell.execute_reply": "2022-06-14T18:43:03.319946Z"
        },
        "trusted": true,
        "id": "Vj7YXGyRZm-Z"
      },
      "execution_count": 13,
      "outputs": []
    },
    {
      "cell_type": "code",
      "source": [
        "X = df[\"PreText\"].values\n",
        "y = df.drop(\"PreText\", axis=1).values\n",
        "X_train, X_test, y_train, y_test = train_test_split(X, y, test_size=0.20, random_state=42)\n",
        "final_X = X_test.copy()"
      ],
      "metadata": {
        "execution": {
          "iopub.status.busy": "2022-06-14T18:44:52.120023Z",
          "iopub.execute_input": "2022-06-14T18:44:52.120592Z",
          "iopub.status.idle": "2022-06-14T18:44:52.136269Z",
          "shell.execute_reply.started": "2022-06-14T18:44:52.120542Z",
          "shell.execute_reply": "2022-06-14T18:44:52.135191Z"
        },
        "trusted": true,
        "id": "Tzzxoy_QZm-Z"
      },
      "execution_count": 14,
      "outputs": []
    },
    {
      "cell_type": "code",
      "source": [
        "vect = CountVectorizer()\n",
        "X_train = vect.fit_transform(X_train)\n",
        "X_test = vect.transform(X_test)"
      ],
      "metadata": {
        "execution": {
          "iopub.status.busy": "2022-06-14T18:45:35.396009Z",
          "iopub.execute_input": "2022-06-14T18:45:35.396508Z",
          "iopub.status.idle": "2022-06-14T18:45:35.78057Z",
          "shell.execute_reply.started": "2022-06-14T18:45:35.396473Z",
          "shell.execute_reply": "2022-06-14T18:45:35.779375Z"
        },
        "trusted": true,
        "id": "rIGp1XXnZm-Z"
      },
      "execution_count": 15,
      "outputs": []
    },
    {
      "cell_type": "code",
      "source": [
        "tfidf = TfidfTransformer()\n",
        "X_train = tfidf.fit_transform(X_train).toarray()\n",
        "X_test = tfidf.transform(X_test).toarray()"
      ],
      "metadata": {
        "execution": {
          "iopub.status.busy": "2022-06-14T18:46:57.918473Z",
          "iopub.execute_input": "2022-06-14T18:46:57.918918Z",
          "iopub.status.idle": "2022-06-14T18:46:59.069195Z",
          "shell.execute_reply.started": "2022-06-14T18:46:57.918874Z",
          "shell.execute_reply": "2022-06-14T18:46:59.068067Z"
        },
        "trusted": true,
        "id": "DkoYCAtrZm-a"
      },
      "execution_count": 16,
      "outputs": []
    },
    {
      "cell_type": "code",
      "source": [
        "import tensorflow as tf\n",
        "from tensorflow.keras.models import Sequential\n",
        "from tensorflow.keras.layers import Dense, Activation, Dropout\n",
        "from tensorflow.keras.callbacks import EarlyStopping\n"
      ],
      "metadata": {
        "execution": {
          "iopub.status.busy": "2022-06-14T18:48:20.601293Z",
          "iopub.execute_input": "2022-06-14T18:48:20.601835Z",
          "iopub.status.idle": "2022-06-14T18:48:27.991214Z",
          "shell.execute_reply.started": "2022-06-14T18:48:20.601796Z",
          "shell.execute_reply": "2022-06-14T18:48:27.99013Z"
        },
        "trusted": true,
        "id": "V6w7X48KZm-a"
      },
      "execution_count": 17,
      "outputs": []
    },
    {
      "cell_type": "code",
      "source": [
        "model = Sequential()\n",
        "\n",
        "model.add(Dense(units=22000, activation='relu'))\n",
        "model.add(Dropout(0.4))\n",
        "\n",
        "model.add(Dense(units=8000, activation='relu'))\n",
        "model.add(Dropout(0.4))\n",
        "\n",
        "model.add(Dense(units=2000, activation='relu'))\n",
        "model.add(Dropout(0.4))\n",
        "\n",
        "model.add(Dense(units=500, activation='relu'))\n",
        "model.add(Dropout(0.4))\n",
        "\n",
        "model.add(Dense(units=6, activation='softmax'))\n",
        "\n",
        "opt = tf.keras.optimizers.Adam(learning_rate=0.01)\n",
        "model.compile(loss='categorical_crossentropy', optimizer=opt, metrics=['accuracy'])\n",
        "\n",
        "early_stop = EarlyStopping(monitor='val_loss', mode='min', verbose=1, patience=2)"
      ],
      "metadata": {
        "execution": {
          "iopub.status.busy": "2022-06-14T18:54:46.245147Z",
          "iopub.execute_input": "2022-06-14T18:54:46.245627Z",
          "iopub.status.idle": "2022-06-14T18:54:46.277036Z",
          "shell.execute_reply.started": "2022-06-14T18:54:46.245593Z",
          "shell.execute_reply": "2022-06-14T18:54:46.275608Z"
        },
        "trusted": true,
        "id": "sWey7qtxZm-a"
      },
      "execution_count": 18,
      "outputs": []
    },
    {
      "cell_type": "code",
      "source": [
        "model.fit(x=X_train, y=y_train, batch_size=256, epochs=100, validation_data=(X_test, y_test), verbose=1, callbacks=early_stop)"
      ],
      "metadata": {
        "execution": {
          "iopub.status.busy": "2022-06-14T18:54:47.96387Z",
          "iopub.execute_input": "2022-06-14T18:54:47.964576Z",
          "iopub.status.idle": "2022-06-14T19:17:53.923748Z",
          "shell.execute_reply.started": "2022-06-14T18:54:47.964534Z",
          "shell.execute_reply": "2022-06-14T19:17:53.922858Z"
        },
        "trusted": true,
        "colab": {
          "base_uri": "https://localhost:8080/"
        },
        "id": "TRUyvB3tZm-a",
        "outputId": "43486cdb-6e03-4e25-fd64-5e66a4b76a6d"
      },
      "execution_count": null,
      "outputs": [
        {
          "output_type": "stream",
          "name": "stdout",
          "text": [
            "Epoch 1/100\n"
          ]
        }
      ]
    },
    {
      "cell_type": "code",
      "source": [
        "model_score = model.evaluate(X_test, y_test, batch_size=64, verbose=1)\n",
        "print(\"Test Accuracy : \", model_score[1])"
      ],
      "metadata": {
        "execution": {
          "iopub.status.busy": "2022-06-14T19:18:15.03228Z",
          "iopub.execute_input": "2022-06-14T19:18:15.03275Z",
          "iopub.status.idle": "2022-06-14T19:19:06.248094Z",
          "shell.execute_reply.started": "2022-06-14T19:18:15.03271Z",
          "shell.execute_reply": "2022-06-14T19:19:06.247003Z"
        },
        "trusted": true,
        "id": "0I7h7UL_Zm-a"
      },
      "execution_count": null,
      "outputs": []
    },
    {
      "cell_type": "code",
      "source": [
        "df_pred = model.predict(X_test)\n",
        "df_pred"
      ],
      "metadata": {
        "execution": {
          "iopub.status.busy": "2022-06-14T19:19:06.334555Z",
          "iopub.execute_input": "2022-06-14T19:19:06.335313Z",
          "iopub.status.idle": "2022-06-14T19:19:59.93779Z",
          "shell.execute_reply.started": "2022-06-14T19:19:06.335279Z",
          "shell.execute_reply": "2022-06-14T19:19:59.93673Z"
        },
        "trusted": true,
        "id": "z1RofcznZm-b"
      },
      "execution_count": null,
      "outputs": []
    },
    {
      "cell_type": "code",
      "source": [
        "emotion = ['anger', 'fear', 'happy', 'love', 'sadness','suprised']"
      ],
      "metadata": {
        "id": "hj9Md659tBJf"
      },
      "execution_count": null,
      "outputs": []
    },
    {
      "cell_type": "code",
      "source": [
        "pred_emotion = pd.DataFrame(df_pred.argmax(axis=1))\n",
        "pred_emotion.rename(columns = {0:\"Emotion\"}, inplace=True)\n",
        "pred_emotion[\"Emotion\"] = [emotion[ind] for ind in pred_emotion[\"Emotion\"].tolist()]"
      ],
      "metadata": {
        "execution": {
          "iopub.status.busy": "2022-06-14T19:37:54.571077Z",
          "iopub.execute_input": "2022-06-14T19:37:54.571564Z",
          "iopub.status.idle": "2022-06-14T19:37:54.581825Z",
          "shell.execute_reply.started": "2022-06-14T19:37:54.571518Z",
          "shell.execute_reply": "2022-06-14T19:37:54.580743Z"
        },
        "trusted": true,
        "id": "eEE-Fm7mZm-b"
      },
      "execution_count": null,
      "outputs": []
    },
    {
      "cell_type": "code",
      "source": [
        "pred_emotion.head()"
      ],
      "metadata": {
        "execution": {
          "iopub.status.busy": "2022-06-14T19:37:56.849445Z",
          "iopub.execute_input": "2022-06-14T19:37:56.849912Z",
          "iopub.status.idle": "2022-06-14T19:37:56.860391Z",
          "shell.execute_reply.started": "2022-06-14T19:37:56.849876Z",
          "shell.execute_reply": "2022-06-14T19:37:56.859199Z"
        },
        "trusted": true,
        "id": "XMKerq0GZm-b"
      },
      "execution_count": null,
      "outputs": []
    },
    {
      "cell_type": "code",
      "source": [
        "y_emotion = pd.DataFrame(y_test.argmax(axis=1))\n",
        "y_emotion.rename(columns = {0:\"Emotion_Test\"}, inplace=True)\n",
        "y_emotion[\"Emotion_Test\"] = [emotion[ind] for ind in y_emotion[\"Emotion_Test\"].tolist()]"
      ],
      "metadata": {
        "execution": {
          "iopub.status.busy": "2022-06-14T19:40:17.486646Z",
          "iopub.execute_input": "2022-06-14T19:40:17.487268Z",
          "iopub.status.idle": "2022-06-14T19:40:17.497041Z",
          "shell.execute_reply.started": "2022-06-14T19:40:17.487228Z",
          "shell.execute_reply": "2022-06-14T19:40:17.495831Z"
        },
        "trusted": true,
        "id": "yvJVB9ouZm-b"
      },
      "execution_count": null,
      "outputs": []
    },
    {
      "cell_type": "code",
      "source": [
        "y_emotion.head()"
      ],
      "metadata": {
        "execution": {
          "iopub.status.busy": "2022-06-14T19:40:21.213403Z",
          "iopub.execute_input": "2022-06-14T19:40:21.213959Z",
          "iopub.status.idle": "2022-06-14T19:40:21.225841Z",
          "shell.execute_reply.started": "2022-06-14T19:40:21.213916Z",
          "shell.execute_reply": "2022-06-14T19:40:21.224869Z"
        },
        "trusted": true,
        "id": "QsjqqN78Zm-b"
      },
      "execution_count": null,
      "outputs": []
    },
    {
      "cell_type": "code",
      "source": [
        "pd.concat([pred_emotion, y_emotion], axis=1)"
      ],
      "metadata": {
        "execution": {
          "iopub.status.busy": "2022-06-14T19:41:53.867925Z",
          "iopub.execute_input": "2022-06-14T19:41:53.868394Z",
          "iopub.status.idle": "2022-06-14T19:41:53.886033Z",
          "shell.execute_reply.started": "2022-06-14T19:41:53.868358Z",
          "shell.execute_reply": "2022-06-14T19:41:53.885029Z"
        },
        "trusted": true,
        "id": "aNKxNqSBZm-b"
      },
      "execution_count": null,
      "outputs": []
    },
    {
      "cell_type": "markdown",
      "source": [
        "## User Text Emotion detection"
      ],
      "metadata": {
        "id": "uEdiL7HDZ6zb"
      }
    },
    {
      "cell_type": "code",
      "source": [
        "text = [input(\"Enter Text : \")]"
      ],
      "metadata": {
        "id": "0XZ3eSRqZm-b"
      },
      "execution_count": null,
      "outputs": []
    },
    {
      "cell_type": "code",
      "source": [
        "text = text_processing(text)\n",
        "text = tfidf.transform(vect.transform([text])).toarray()\n",
        "text"
      ],
      "metadata": {
        "id": "p-V28tidaAdK"
      },
      "execution_count": null,
      "outputs": []
    },
    {
      "cell_type": "code",
      "source": [
        "emotion[model.predict(text).argmax(axis=1)[0]]"
      ],
      "metadata": {
        "id": "5WCOAUnUaFtl"
      },
      "execution_count": null,
      "outputs": []
    },
    {
      "cell_type": "code",
      "source": [
        ""
      ],
      "metadata": {
        "id": "wGNUv4w2pqO5"
      },
      "execution_count": null,
      "outputs": []
    }
  ]
}